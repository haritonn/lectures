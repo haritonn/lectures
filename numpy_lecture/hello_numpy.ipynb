{
 "cells": [
  {
   "cell_type": "markdown",
   "id": "f0a8b247-5285-4b65-ab8a-f3523a711d80",
   "metadata": {},
   "source": [
    "## Где мы?"
   ]
  },
  {
   "cell_type": "markdown",
   "id": "65001a7f-3656-417f-acca-54276bc19115",
   "metadata": {},
   "source": [
    "Добро пожаловать в **Jupyter Notebook** - аналог Python Interactive, позволяющий запускать код блоками."
   ]
  },
  {
   "cell_type": "markdown",
   "id": "ebd57c95-bdce-496f-9f38-f96115a07533",
   "metadata": {},
   "source": [
    "Здесь можно писать всякие формулы (LaTeX):\n",
    "\n",
    "$\\sum a_x$\n",
    "\n",
    "а также есть поддержка картинок/гифок:"
   ]
  },
  {
   "cell_type": "markdown",
   "id": "4c5089e1-167a-47d3-9512-ea4fd8dc58af",
   "metadata": {},
   "source": [
    "<img src = \"img/numpy1.jpg\" width=\"400\">"
   ]
  },
  {
   "cell_type": "markdown",
   "id": "e35a05f5-0b19-42e9-a4a6-ece047636685",
   "metadata": {},
   "source": [
    "## Что такое NumPy и почему он крутой"
   ]
  },
  {
   "cell_type": "markdown",
   "id": "f010dfb9-b196-4914-82b4-b678c65f838b",
   "metadata": {},
   "source": [
    "Основная причина, по которой принято говорить, что классический Python медленный - это **динамическая типизация.**"
   ]
  },
  {
   "cell_type": "code",
   "execution_count": 2,
   "id": "1f1573f7-8cb1-451c-bc58-08db48072fc6",
   "metadata": {},
   "outputs": [],
   "source": [
    "a = 5 #присвоим переменной целочисленный тип\n",
    "a = \"some string\" #а затем сразу переопределим её строковым типом"
   ]
  },
  {
   "cell_type": "markdown",
   "id": "6107cf15-34f6-4833-8523-abc432ec4a3b",
   "metadata": {},
   "source": [
    "Для сравнения, в C++ мы заранее указываем, какой тип данных (и только его) содержит переменная.\n",
    "\n",
    "\"Магия\" такого поведения Python, как ни странно, скрывается под капотом, где каждая переменная представляет собой структуру языка C. В памяти массив представляется как-то так:\n",
    "\n",
    "<img src = \"img/numpy2.jpg\" width=\"400\">"
   ]
  },
  {
   "cell_type": "markdown",
   "id": "430380f4-5d58-455c-b61d-c1c0a99e1396",
   "metadata": {},
   "source": [
    "Формально это означает, что элементы массива содержатся где попало, что приводит к нерациональному использованию памяти.\n",
    "\n",
    "Использование NumPy делает управление памятью более рациональным, однако лишает нас динамической типизации. Подробнее рассмотрим это чуть позже. А сейчас оценим время, которое позволяет экономить использование NumPy"
   ]
  },
  {
   "cell_type": "code",
   "execution_count": 3,
   "id": "07e17efe-7d27-486e-9037-0f0b17eacbc0",
   "metadata": {},
   "outputs": [
    {
     "name": "stdout",
     "output_type": "stream",
     "text": [
      "Python работал 6.901902914047241 секунд\n",
      "Numpy Работал 0.054979801177978516 секунд\n"
     ]
    }
   ],
   "source": [
    "import numpy as np\n",
    "import time \n",
    "\n",
    "python_array = [i for i in range(100000000)]\n",
    "numpy_array = np.array(python_array)\n",
    "\n",
    "start = time.time()\n",
    "for i in python_array:\n",
    "    i += 1\n",
    "print(\"Python работал {} секунд\".format(time.time() - start))\n",
    "\n",
    "start = time.time()\n",
    "numpy_array += 1\n",
    "print(\"Numpy Работал {} секунд\".format(time.time() - start))"
   ]
  },
  {
   "cell_type": "markdown",
   "id": "dce17e60-c1c3-4609-a788-9f9befc69527",
   "metadata": {},
   "source": [
    "Тут нужно сказать пару слов про технологию векторизации, которую использует NumPy.\n",
    "\n",
    "**SIMD (Single Instruction, Multiple Data)** позволяет процессору выполнять одну и ту же операцию сразу над несколькими элементами данных. В классической же модели обработки каждый эл-т обрабатывается отдельно (т.е. одно значение за одну единицу времени).\n",
    "\n",
    "NumPy **не является прямым интерфейсом SIMD,** однако использует такие низкоуровневые библиотеки, как BLAS (Basic Linear Algebra Subprograms) и LAPACK (Linear Algebra PACKage), которые оптимизированы с помощью SIMD."
   ]
  },
  {
   "cell_type": "markdown",
   "id": "3bffe741-0a3b-401f-acc5-46874a16462f",
   "metadata": {},
   "source": [
    "## Это база"
   ]
  },
  {
   "cell_type": "markdown",
   "id": "d1af68e4-eb5c-4bc6-a39f-0d4d2d561ebd",
   "metadata": {},
   "source": [
    "Рассмотрим самые базовые команды, которые предлагает нам данная библиотека."
   ]
  },
  {
   "cell_type": "code",
   "execution_count": 4,
   "id": "07f9e60c-a0e2-4948-9ee4-e88a8d9bbd50",
   "metadata": {},
   "outputs": [
    {
     "data": {
      "text/plain": [
       "array([1, 2, 3, 4, 5])"
      ]
     },
     "execution_count": 4,
     "metadata": {},
     "output_type": "execute_result"
    }
   ],
   "source": [
    "np.array([1, 2, 3, 4, 5]) #создание массива NumPy"
   ]
  },
  {
   "cell_type": "code",
   "execution_count": 5,
   "id": "e176e0c4-fe5c-4d2d-95c0-75581795dba5",
   "metadata": {},
   "outputs": [
    {
     "name": "stdout",
     "output_type": "stream",
     "text": [
      "[0. 0. 0. 0. 0.]\n",
      "[1. 1. 1. 1. 1.]\n"
     ]
    }
   ],
   "source": [
    "print(np.zeros(5)); print(np.ones(5))"
   ]
  },
  {
   "cell_type": "code",
   "execution_count": 6,
   "id": "20ecfa9c-fdbe-4c6f-bb4a-c8a7e91150ac",
   "metadata": {},
   "outputs": [
    {
     "name": "stdout",
     "output_type": "stream",
     "text": [
      "[0 2 4 6 8]\n",
      "[0.         0.55555556 1.11111111 1.66666667 2.22222222 2.77777778\n",
      " 3.33333333 3.88888889 4.44444444 5.        ]\n"
     ]
    }
   ],
   "source": [
    "print(np.arange(0, 10, 2)); print(np.linspace(0, 5, 10))"
   ]
  },
  {
   "cell_type": "markdown",
   "id": "32a60ac2-959b-43e6-b1c8-0d1743379642",
   "metadata": {},
   "source": [
    "(arange создаёт элементы от 0 до 10 с шагом 2, а linspace 10 элементов от 0 до 5) "
   ]
  },
  {
   "cell_type": "code",
   "execution_count": 8,
   "id": "52cdaf30-8d7d-4865-9c33-00f11fa57032",
   "metadata": {},
   "outputs": [
    {
     "data": {
      "text/plain": [
       "array([[1., 0., 0., 0., 0.],\n",
       "       [0., 1., 0., 0., 0.],\n",
       "       [0., 0., 1., 0., 0.],\n",
       "       [0., 0., 0., 1., 0.],\n",
       "       [0., 0., 0., 0., 1.]])"
      ]
     },
     "execution_count": 8,
     "metadata": {},
     "output_type": "execute_result"
    }
   ],
   "source": [
    "np.identity(5) #единичная матрица"
   ]
  },
  {
   "cell_type": "code",
   "execution_count": 10,
   "id": "efa9c35d-6996-4d2b-8a70-72d51af4b8eb",
   "metadata": {},
   "outputs": [
    {
     "name": "stdout",
     "output_type": "stream",
     "text": [
      "(5,) int64\n"
     ]
    }
   ],
   "source": [
    "a = np.array([1, 2, 3, 4, 5])\n",
    "print(a.shape, a.dtype)"
   ]
  },
  {
   "cell_type": "code",
   "execution_count": 11,
   "id": "c3cb8f08-c83a-4a77-bb2c-fc1cb7ea60ed",
   "metadata": {},
   "outputs": [
    {
     "data": {
      "text/plain": [
       "array([1, 2, 3, 4, 5])"
      ]
     },
     "execution_count": 11,
     "metadata": {},
     "output_type": "execute_result"
    }
   ],
   "source": [
    "a = np.array([2, 3, 4, 1, 5])\n",
    "np.sort(a) #По умолчанию - QuickSort"
   ]
  },
  {
   "cell_type": "code",
   "execution_count": 14,
   "id": "f19e5680-b2d1-4fc6-8ce6-04f7037f371d",
   "metadata": {},
   "outputs": [
    {
     "data": {
      "text/plain": [
       "array([1., 2., 3., 4.])"
      ]
     },
     "execution_count": 14,
     "metadata": {},
     "output_type": "execute_result"
    }
   ],
   "source": [
    "a = np.array([[1, 2], [3, 4]], dtype = float) #можно явно указать тип данных\n",
    "b = a.flatten()\n",
    "b"
   ]
  },
  {
   "cell_type": "markdown",
   "id": "99135227-c571-4e08-91d6-bfa93f223f06",
   "metadata": {},
   "source": [
    "Ну и не забудем упомянуть про всякие математические приколы:"
   ]
  },
  {
   "cell_type": "code",
   "execution_count": 16,
   "id": "c31d4c3e-d507-4e17-b358-000c11eeec22",
   "metadata": {},
   "outputs": [
    {
     "name": "stdout",
     "output_type": "stream",
     "text": [
      "2.718281828459045 3.141592653589793 1.0\n"
     ]
    }
   ],
   "source": [
    "print(np.e, np.pi, np.log(np.e))"
   ]
  },
  {
   "cell_type": "markdown",
   "id": "a6a71547-7933-469f-a03c-acc91c993a94",
   "metadata": {},
   "source": [
    "А ещё пару строк про векторные операции в NumPy:"
   ]
  },
  {
   "cell_type": "code",
   "execution_count": 17,
   "id": "42930284-42bb-4ccf-ae15-b32488d38ff0",
   "metadata": {},
   "outputs": [
    {
     "name": "stdout",
     "output_type": "stream",
     "text": [
      "[2 3 4 5]\n"
     ]
    }
   ],
   "source": [
    "print(np.array([1, 2, 3, 4]) + 1)"
   ]
  },
  {
   "cell_type": "code",
   "execution_count": 18,
   "id": "52eebe42-2a81-4477-b90e-404704aefc38",
   "metadata": {},
   "outputs": [
    {
     "data": {
      "text/plain": [
       "array([ 4, 10, 18])"
      ]
     },
     "execution_count": 18,
     "metadata": {},
     "output_type": "execute_result"
    }
   ],
   "source": [
    "a = np.array([1, 2, 3])\n",
    "b = np.array([4, 5, 6])\n",
    "a * b"
   ]
  },
  {
   "cell_type": "markdown",
   "id": "60d8e1e6-8946-4e6a-a8f7-07b717110ea6",
   "metadata": {},
   "source": [
    "## UFUNC и аггрегирование"
   ]
  },
  {
   "cell_type": "markdown",
   "id": "8b03afb9-095c-41cb-baea-07d5e2eada19",
   "metadata": {},
   "source": [
    "В NumPy у каждой операции есть свой собственный аналог, который называется **ufunc (универсальные функции).** Они оптимизированы и имеют свои вспомогательные функции, но обо всё по порядку."
   ]
  },
  {
   "cell_type": "code",
   "execution_count": 20,
   "id": "63dd9f52-b578-451d-994a-7ceb9a010c07",
   "metadata": {},
   "outputs": [
    {
     "data": {
      "text/plain": [
       "array([5, 7, 9])"
      ]
     },
     "execution_count": 20,
     "metadata": {},
     "output_type": "execute_result"
    }
   ],
   "source": [
    "a + b        # абсолютно\n",
    "np.add(a, b) # одинаковые записи"
   ]
  },
  {
   "cell_type": "code",
   "execution_count": 21,
   "id": "1bd38190-049c-4339-baa5-a31bc958fd64",
   "metadata": {},
   "outputs": [
    {
     "data": {
      "text/plain": [
       "array([1, 3, 6])"
      ]
     },
     "execution_count": 21,
     "metadata": {},
     "output_type": "execute_result"
    }
   ],
   "source": [
    "np.add.accumulate(a) #возвращает все шаги сумирования слева направо (a = [1, 2, 3])"
   ]
  },
  {
   "cell_type": "code",
   "execution_count": 22,
   "id": "1e8a6506-abc0-4a53-af13-0cf0afc6889f",
   "metadata": {},
   "outputs": [
    {
     "data": {
      "text/plain": [
       "6"
      ]
     },
     "execution_count": 22,
     "metadata": {},
     "output_type": "execute_result"
    }
   ],
   "source": [
    "np.add.reduce(a) #вернёт сумму массива"
   ]
  },
  {
   "cell_type": "markdown",
   "id": "0b7867c2-7d6c-4481-91b9-dccd455557d7",
   "metadata": {},
   "source": [
    "и так далее и так далее. С полным списком вспомогательных функции можно ознакомиться в документации."
   ]
  },
  {
   "cell_type": "markdown",
   "id": "fe6517e8-c508-4611-91e9-c24f32251eda",
   "metadata": {},
   "source": [
    "Часто при работе с данными пригождается собрать какую-то первичную статистику, т.е. выявление максимума, минимума по определенным признакам. Конечно же, для этого лучше использовать встроенные в NumPy функции:"
   ]
  },
  {
   "cell_type": "code",
   "execution_count": 24,
   "id": "d7573259-ec88-450d-83f7-b13ffe16f9d9",
   "metadata": {},
   "outputs": [
    {
     "name": "stdout",
     "output_type": "stream",
     "text": [
      "Min:0\n",
      "Max:9\n",
      "Mean:4.5\n",
      "Sum:45\n"
     ]
    }
   ],
   "source": [
    "a = np.arange(10)\n",
    "min_val = np.min(a)\n",
    "max_val = np.max(a)\n",
    "mean_val = np.mean(a)\n",
    "sum_val = np.sum(a)\n",
    "print(\"Min:{}\\nMax:{}\\nMean:{}\\nSum:{}\".format(min_val, max_val, mean_val, sum_val))"
   ]
  },
  {
   "cell_type": "code",
   "execution_count": 25,
   "id": "80f34cd5-245c-4d98-b1b7-5702a9ec7451",
   "metadata": {},
   "outputs": [
    {
     "data": {
      "text/plain": [
       "array([0, 1, 2])"
      ]
     },
     "execution_count": 25,
     "metadata": {},
     "output_type": "execute_result"
    }
   ],
   "source": [
    "b = np.arange(9).reshape(3, 3) #переопределим размеры массива (теперь это матрица 3х3)\n",
    "min_val1 = np.min(b, axis = 0)\n",
    "min_val1"
   ]
  },
  {
   "cell_type": "markdown",
   "id": "0c4e7067-15ac-4bd8-b1ca-9b10a422ba77",
   "metadata": {},
   "source": [
    "Здесь стоит немного остановиться. Для функции можно указывать ось, по которой мы хотим её применить, однако работает она не так однозначно.\n",
    "Для понимания добавлю, что **axis = 0 - строки, axis = 1 - столбцы в случае двумерных массивов.**\n",
    "\n",
    "Ключевое слово axis показывает, какая ось будет **СХЛОПНУТА,** а не по какой будет применяться функция. Опять же, рассмотрим массив b:"
   ]
  },
  {
   "cell_type": "code",
   "execution_count": 26,
   "id": "aca97d34-08bf-4ea9-8c43-8d6d5ca7bd7a",
   "metadata": {},
   "outputs": [
    {
     "data": {
      "text/plain": [
       "array([[0, 1, 2],\n",
       "       [3, 4, 5],\n",
       "       [6, 7, 8]])"
      ]
     },
     "execution_count": 26,
     "metadata": {},
     "output_type": "execute_result"
    }
   ],
   "source": [
    "b"
   ]
  },
  {
   "cell_type": "markdown",
   "id": "34429efd-b7b4-493f-8d10-bc80c545c4b1",
   "metadata": {},
   "source": [
    "Указывая для np.min axis = 0 мы говорим, что ось строк будет схлопнута, и функция будет применяться по столбцам. Так и выходит - min_val1 является массивом, который содержит минимальные элементы каждого столбца исходного массива b."
   ]
  },
  {
   "cell_type": "markdown",
   "id": "68b1e310-edef-43ba-808d-7a590f4234b8",
   "metadata": {},
   "source": [
    "## Broadcasting rules"
   ]
  },
  {
   "cell_type": "markdown",
   "id": "68427c83-1bf7-4501-9d81-18392dd00c8d",
   "metadata": {},
   "source": [
    "**Правила транслирования** помогают складывать массивы, матрицы и возможные их комбинации между собой. Эти правила состоят из 3-х пунктов, выполнение (или не выполнение) которых определяют порядок сложения (бинарной операции) массивов."
   ]
  },
  {
   "cell_type": "code",
   "execution_count": 27,
   "id": "9354ccbb-0ca3-4d18-8cca-b15dc5b28a48",
   "metadata": {},
   "outputs": [
    {
     "name": "stdout",
     "output_type": "stream",
     "text": [
      "(2,) (3, 2)\n"
     ]
    }
   ],
   "source": [
    "a = np.array([1, 2])\n",
    "b = np.array([[1, 2],\n",
    "              [3, 4],\n",
    "              [5, 6]])\n",
    "\n",
    "print(a.shape, b.shape)"
   ]
  },
  {
   "cell_type": "markdown",
   "id": "bcef3742-398e-4876-a68d-91b771d28223",
   "metadata": {},
   "source": [
    "Обратите внимания на \"лишнюю\" запятую у размерности a."
   ]
  },
  {
   "cell_type": "markdown",
   "id": "d71ede76-c884-44cd-bb4b-8c1302cf10a5",
   "metadata": {},
   "source": [
    "Итак, правила транслирования:\n",
    "\n",
    "1. Если количество измерений (элементов в shape) не совпадает, то отстающему массиву дописывается ведущая единица **слева.** Для наших массивов - (2,) $\\rightarrow$ (1, 2)\n",
    "2. Если в каком-то конкретном измерении один из массивов отстаёт от второго, и при этом \"длина\" этого измерения **равна 1,** тогда она \"растягивается\" до нужного значения. Для наших массивов - (1, 2) $\\rightarrow$ (3, 2).\n",
    "\n",
    "На втором шаге уже становится понятно, что мы можем сложить эти самые массивы, однако есть ещё третье правило:\n",
    "\n",
    "3. В противных случаях - ошибка."
   ]
  },
  {
   "cell_type": "code",
   "execution_count": 28,
   "id": "f90fc053-c01f-4caa-b7f7-9a9854c15fe3",
   "metadata": {},
   "outputs": [
    {
     "data": {
      "text/plain": [
       "array([[2, 4],\n",
       "       [4, 6],\n",
       "       [6, 8]])"
      ]
     },
     "execution_count": 28,
     "metadata": {},
     "output_type": "execute_result"
    }
   ],
   "source": [
    "a + b"
   ]
  },
  {
   "cell_type": "markdown",
   "id": "3ff42261-189f-42a7-8676-38fbc7471779",
   "metadata": {},
   "source": [
    "Если говорить более простым языком, массив a поддаётся правилам транслирования, а значит растягивается до размеров b, при этом дублируя необходимые элементы. Таким образом, **к каждой строке массива b прибавилась строка a.**"
   ]
  },
  {
   "cell_type": "markdown",
   "id": "d3f91bd8-b767-430e-847d-535e502d9faf",
   "metadata": {},
   "source": [
    "## \"Причудливая\" индексация"
   ]
  },
  {
   "cell_type": "markdown",
   "id": "6dd44ab2-8cf7-4955-a545-e076e99758e5",
   "metadata": {},
   "source": [
    "(Я правда пытался понять, почему она называется именно так, я не нашёл :( )"
   ]
  },
  {
   "cell_type": "markdown",
   "id": "e559acaf-7453-4940-a1c0-bbb96727aa23",
   "metadata": {},
   "source": [
    "Тем не менее, в классическом Python мы привыкли индексировать как-то так:"
   ]
  },
  {
   "cell_type": "code",
   "execution_count": 32,
   "id": "68b3081a-ded4-4d0f-8664-0666930d9d00",
   "metadata": {},
   "outputs": [
    {
     "name": "stdout",
     "output_type": "stream",
     "text": [
      "2\n",
      "2\n",
      "[1 2]\n"
     ]
    }
   ],
   "source": [
    "array = [1, 2, 3, 4]\n",
    "print(a[1])\n",
    "print(a[-1])\n",
    "print(a[:2])"
   ]
  },
  {
   "cell_type": "markdown",
   "id": "a8722ba9-e75d-42a6-8148-16627de8d985",
   "metadata": {},
   "source": [
    "NumPy же предлагает слегка продвинутую версию: что если мы в качестве индекса будем передавать не число, а сразу массив?"
   ]
  },
  {
   "cell_type": "code",
   "execution_count": 33,
   "id": "b4167c8a-ee59-4f8d-8865-aae2a374a317",
   "metadata": {},
   "outputs": [
    {
     "name": "stdout",
     "output_type": "stream",
     "text": [
      "[1 5 9]\n"
     ]
    }
   ],
   "source": [
    "a = np.arange(10)\n",
    "index_ar = [1, 5, -1]\n",
    "print(a[index_ar])"
   ]
  },
  {
   "cell_type": "markdown",
   "id": "738683b1-d7ed-4af1-ba61-ae0132f2cde5",
   "metadata": {},
   "source": [
    "Мы можем комбинировать все виды индексирования:"
   ]
  },
  {
   "cell_type": "code",
   "execution_count": 35,
   "id": "2d674387-205b-4e82-8c28-54802d91b388",
   "metadata": {},
   "outputs": [
    {
     "data": {
      "text/plain": [
       "array([[0, 1, 2],\n",
       "       [3, 4, 5],\n",
       "       [6, 7, 8]])"
      ]
     },
     "execution_count": 35,
     "metadata": {},
     "output_type": "execute_result"
    }
   ],
   "source": [
    "b = np.arange(9).reshape(3, 3)\n",
    "b"
   ]
  },
  {
   "cell_type": "code",
   "execution_count": 36,
   "id": "6da6e8a9-2292-46c0-ade5-881d8f2a15f5",
   "metadata": {},
   "outputs": [
    {
     "name": "stdout",
     "output_type": "stream",
     "text": [
      "[3 5]\n"
     ]
    }
   ],
   "source": [
    "index_ar = [0, 2]\n",
    "print(b[1][index_ar])"
   ]
  },
  {
   "cell_type": "markdown",
   "id": "36e6fd5b-100a-428c-8566-216a8ea5f46b",
   "metadata": {},
   "source": [
    "## Операция маскирования"
   ]
  },
  {
   "cell_type": "markdown",
   "id": "4f67f058-682d-4120-8faf-32c8d764e68f",
   "metadata": {},
   "source": [
    "Рассмотрим, как NumPy синергирует с логическими операциями:"
   ]
  },
  {
   "cell_type": "code",
   "execution_count": 37,
   "id": "a5ac22b2-3470-4b0f-8c9d-44f1d90626d0",
   "metadata": {},
   "outputs": [
    {
     "name": "stdout",
     "output_type": "stream",
     "text": [
      "[False False  True False  True  True False  True]\n"
     ]
    }
   ],
   "source": [
    "a = np.array([0, 3, 4, 2, 10, 9, 2, 6])\n",
    "print(a > 3)"
   ]
  },
  {
   "cell_type": "markdown",
   "id": "9312895e-f349-40b5-bacc-f6c81bcc3bd0",
   "metadata": {},
   "source": [
    "Логично, что False - неудовлетворяющие значения, а True - угадайте какие. Разве что добавлю, что в NumPy False интерпретируется как 0, а True - как 1."
   ]
  },
  {
   "cell_type": "markdown",
   "id": "5fb1e2eb-64eb-4b28-92d4-ccf2d0733792",
   "metadata": {},
   "source": [
    "Думаю многие уже догадались, как это можно применять на практике:"
   ]
  },
  {
   "cell_type": "code",
   "execution_count": 38,
   "id": "7767597f-3311-4aad-8668-0651724e41ed",
   "metadata": {},
   "outputs": [
    {
     "data": {
      "text/plain": [
       "array([ 4, 10,  9,  6])"
      ]
     },
     "execution_count": 38,
     "metadata": {},
     "output_type": "execute_result"
    }
   ],
   "source": [
    "a[a > 3]"
   ]
  },
  {
   "cell_type": "markdown",
   "id": "a1df12bc-5416-4e8d-a387-e84af61d8528",
   "metadata": {},
   "source": [
    "Т.е. возвращаются элементы, удовлетворяющие условию. В квадратных скобках может быть выражение любой сложности."
   ]
  },
  {
   "cell_type": "markdown",
   "id": "cbad689b-4e5a-4466-b376-b30fbeda956b",
   "metadata": {},
   "source": [
    "Возвращаясь к теме выше, повторюсь, что мы можем комбинировать **любые методы индексирования.**"
   ]
  }
 ],
 "metadata": {
  "kernelspec": {
   "display_name": "Python 3 (ipykernel)",
   "language": "python",
   "name": "python3"
  },
  "language_info": {
   "codemirror_mode": {
    "name": "ipython",
    "version": 3
   },
   "file_extension": ".py",
   "mimetype": "text/x-python",
   "name": "python",
   "nbconvert_exporter": "python",
   "pygments_lexer": "ipython3",
   "version": "3.12.7"
  }
 },
 "nbformat": 4,
 "nbformat_minor": 5
}
